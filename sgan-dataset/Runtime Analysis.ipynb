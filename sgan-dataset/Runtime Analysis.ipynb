{
 "cells": [
  {
   "cell_type": "code",
   "execution_count": 1,
   "metadata": {},
   "outputs": [],
   "source": [
    "%matplotlib inline\n",
    "import matplotlib.pyplot as plt\n",
    "import glob\n",
    "import numpy as np\n",
    "import seaborn as sns\n",
    "import pandas as pd"
   ]
  },
  {
   "cell_type": "code",
   "execution_count": 2,
   "metadata": {},
   "outputs": [],
   "source": [
    "def pretty_dataset_name(dataset_name):\n",
    "    if dataset_name == 'eth':\n",
    "        return 'ETH - Univ'\n",
    "    elif dataset_name == 'hotel':\n",
    "        return 'ETH - Hotel'\n",
    "    elif dataset_name == 'univ':\n",
    "        return 'UCY - Univ'\n",
    "    elif dataset_name == 'zara1':\n",
    "        return 'UCY - Zara 1'\n",
    "    elif dataset_name == 'zara2':\n",
    "        return 'UCY - Zara 2'\n",
    "    else:\n",
    "        return dataset_name"
   ]
  },
  {
   "cell_type": "markdown",
   "metadata": {},
   "source": [
    "# Runtime Analysis"
   ]
  },
  {
   "cell_type": "code",
   "execution_count": 3,
   "metadata": {},
   "outputs": [],
   "source": [
    "runtime_df = pd.concat([pd.read_csv(f) for f in glob.glob('plots/data/*_runtimes.csv')], ignore_index=True)"
   ]
  },
  {
   "cell_type": "code",
   "execution_count": 4,
   "metadata": {},
   "outputs": [
    {
     "data": {
      "text/html": [
       "<div>\n",
       "<style scoped>\n",
       "    .dataframe tbody tr th:only-of-type {\n",
       "        vertical-align: middle;\n",
       "    }\n",
       "\n",
       "    .dataframe tbody tr th {\n",
       "        vertical-align: top;\n",
       "    }\n",
       "\n",
       "    .dataframe thead th {\n",
       "        text-align: right;\n",
       "    }\n",
       "</style>\n",
       "<table border=\"1\" class=\"dataframe\">\n",
       "  <thead>\n",
       "    <tr style=\"text-align: right;\">\n",
       "      <th></th>\n",
       "      <th>data_precondition</th>\n",
       "      <th>dataset</th>\n",
       "      <th>method</th>\n",
       "      <th>runtime</th>\n",
       "      <th>num_samples</th>\n",
       "      <th>num_agents</th>\n",
       "    </tr>\n",
       "  </thead>\n",
       "  <tbody>\n",
       "    <tr>\n",
       "      <th>0</th>\n",
       "      <td>curr</td>\n",
       "      <td>eth</td>\n",
       "      <td>sgan</td>\n",
       "      <td>6.811202</td>\n",
       "      <td>200</td>\n",
       "      <td>18</td>\n",
       "    </tr>\n",
       "    <tr>\n",
       "      <th>1</th>\n",
       "      <td>curr</td>\n",
       "      <td>eth</td>\n",
       "      <td>sgan</td>\n",
       "      <td>6.790546</td>\n",
       "      <td>200</td>\n",
       "      <td>3</td>\n",
       "    </tr>\n",
       "    <tr>\n",
       "      <th>2</th>\n",
       "      <td>curr</td>\n",
       "      <td>eth</td>\n",
       "      <td>sgan</td>\n",
       "      <td>7.577381</td>\n",
       "      <td>200</td>\n",
       "      <td>10</td>\n",
       "    </tr>\n",
       "    <tr>\n",
       "      <th>3</th>\n",
       "      <td>curr</td>\n",
       "      <td>eth</td>\n",
       "      <td>sgan</td>\n",
       "      <td>7.142080</td>\n",
       "      <td>200</td>\n",
       "      <td>9</td>\n",
       "    </tr>\n",
       "    <tr>\n",
       "      <th>4</th>\n",
       "      <td>curr</td>\n",
       "      <td>eth</td>\n",
       "      <td>sgan</td>\n",
       "      <td>6.387951</td>\n",
       "      <td>200</td>\n",
       "      <td>7</td>\n",
       "    </tr>\n",
       "  </tbody>\n",
       "</table>\n",
       "</div>"
      ],
      "text/plain": [
       "  data_precondition dataset method   runtime  num_samples  num_agents\n",
       "0              curr     eth   sgan  6.811202          200          18\n",
       "1              curr     eth   sgan  6.790546          200           3\n",
       "2              curr     eth   sgan  7.577381          200          10\n",
       "3              curr     eth   sgan  7.142080          200           9\n",
       "4              curr     eth   sgan  6.387951          200           7"
      ]
     },
     "execution_count": 4,
     "metadata": {},
     "output_type": "execute_result"
    }
   ],
   "source": [
    "runtime_df.head()"
   ]
  },
  {
   "cell_type": "code",
   "execution_count": 5,
   "metadata": {},
   "outputs": [
    {
     "data": {
      "text/plain": [
       "data_precondition     object\n",
       "dataset               object\n",
       "method                object\n",
       "runtime              float64\n",
       "num_samples            int64\n",
       "num_agents             int64\n",
       "dtype: object"
      ]
     },
     "execution_count": 5,
     "metadata": {},
     "output_type": "execute_result"
    }
   ],
   "source": [
    "runtime_df.dtypes"
   ]
  },
  {
   "cell_type": "code",
   "execution_count": 6,
   "metadata": {},
   "outputs": [
    {
     "data": {
      "text/plain": [
       "<matplotlib.axes._subplots.AxesSubplot at 0x10f75eac8>"
      ]
     },
     "execution_count": 6,
     "metadata": {},
     "output_type": "execute_result"
    },
    {
     "data": {
      "image/png": "[encoded data removed]",
      "text/plain": [
       "<Figure size 432x288 with 1 Axes>"
      ]
     },
     "metadata": {
      "needs_background": "light"
     },
     "output_type": "display_data"
    }
   ],
   "source": [
    "sns.barplot(data=runtime_df, x='dataset', y='runtime', hue='method')"
   ]
  },
  {
   "cell_type": "code",
   "execution_count": 7,
   "metadata": {},
   "outputs": [],
   "source": [
    "from statsmodels.stats.weightstats import ttest_ind, DescrStatsW"
   ]
  },
  {
   "cell_type": "code",
   "execution_count": 9,
   "metadata": {},
   "outputs": [],
   "source": [
    "dataset_names = ['eth', 'hotel', 'univ', 'zara1', 'zara2']"
   ]
  },
  {
   "cell_type": "code",
   "execution_count": 10,
   "metadata": {},
   "outputs": [],
   "source": [
    "times_df = runtime_df[runtime_df['data_precondition'] == 'curr']"
   ]
  },
  {
   "cell_type": "code",
   "execution_count": 13,
   "metadata": {},
   "outputs": [
    {
     "name": "stdout",
     "output_type": "stream",
     "text": [
      "\n",
      "eth\n",
      "sgan 6.983967280387878\n",
      "our_full 0.13338356018066405 52.360030508469734 3.7452979502554264e-46\n",
      "our_ml 0.13262226581573486 52.660593886183406 3.686743723957139e-46\n",
      "\n",
      "hotel\n",
      "sgan 6.459364819526672\n",
      "our_full 0.08026709556579589 80.47338419305149 9.452267695982277e-67\n",
      "our_ml 0.0816190242767334 79.14043174083865 9.704581166673674e-67\n",
      "\n",
      "univ\n",
      "sgan 46.70701649188995\n",
      "our_full 2.000281834602356 23.35021779627121 1.2149703311224568e-56\n",
      "our_ml 1.9612282514572144 23.815186456337308 8.858205614820596e-57\n",
      "\n",
      "zara1\n",
      "sgan 6.47512412071228\n",
      "our_full 0.1579047918319702 41.00650807103179 2.1399239417809476e-43\n",
      "our_ml 0.16170296669006348 40.04332297207118 2.258154843439474e-43\n",
      "\n",
      "zara2\n",
      "sgan 9.563817477226257\n",
      "our_full 0.36574907302856446 26.148576120873276 7.788181785350645e-19\n",
      "our_ml 0.3637690544128418 26.29090452090043 7.722579802526604e-19\n"
     ]
    }
   ],
   "source": [
    "for dataset in dataset_names:\n",
    "    sgan_times = times_df[(times_df['method'] == 'sgan') & (times_df['dataset'] == dataset)]['runtime']\n",
    "    our_full_times = times_df[(times_df['method'] == 'our_full') & (times_df['dataset'] == dataset)]['runtime']\n",
    "    our_most_likely_times = times_df[(times_df['method'] == 'our_most_likely') & (times_df['dataset'] == dataset)]['runtime']\n",
    "    \n",
    "    print()\n",
    "    print(dataset)\n",
    "    sgan_mean = np.mean(sgan_times)\n",
    "    our_full_mean = np.mean(our_full_times)\n",
    "    our_ml_mean = np.mean(our_most_likely_times)\n",
    "    print('sgan', sgan_mean)\n",
    "    print('our_full', our_full_mean, sgan_mean/our_full_mean, ttest_ind(our_full_times, sgan_times)[1])\n",
    "    print('our_ml', our_ml_mean, sgan_mean/our_ml_mean, ttest_ind(our_most_likely_times, sgan_times)[1])"
   ]
  },
  {
   "cell_type": "code",
   "execution_count": null,
   "metadata": {},
   "outputs": [],
   "source": []
  }
 ],
 "metadata": {
  "kernelspec": {
   "display_name": "Python 3.6 (DynSTG)",
   "language": "python",
   "name": "dynstg"
  },
  "language_info": {
   "codemirror_mode": {
    "name": "ipython",
    "version": 3
   },
   "file_extension": ".py",
   "mimetype": "text/x-python",
   "name": "python",
   "nbconvert_exporter": "python",
   "pygments_lexer": "ipython3",
   "version": "3.6.2"
  }
 },
 "nbformat": 4,
 "nbformat_minor": 2
}
